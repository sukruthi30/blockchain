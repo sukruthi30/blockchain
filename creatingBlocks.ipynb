{
  "nbformat": 4,
  "nbformat_minor": 0,
  "metadata": {
    "colab": {
      "provenance": [],
      "authorship_tag": "ABX9TyP8sMvQntnMLwP2pNQlPCUg"
    },
    "kernelspec": {
      "name": "python3",
      "display_name": "Python 3"
    },
    "language_info": {
      "name": "python"
    }
  },
  "cells": [
    {
      "cell_type": "code",
      "source": [
        "import hashlib\n",
        "import json\n",
        "from time import time"
      ],
      "metadata": {
        "id": "3GZYUaDGPZlG"
      },
      "execution_count": null,
      "outputs": []
    },
    {
      "cell_type": "code",
      "execution_count": null,
      "metadata": {
        "colab": {
          "base_uri": "https://localhost:8080/"
        },
        "id": "KCBC02dEPWVu",
        "outputId": "9f2fb516-953e-4c27-dd36-442b8cc0b75a"
      },
      "outputs": [
        {
          "output_type": "stream",
          "name": "stdout",
          "text": [
            "Genesis block:  [{'index': 1, 'timestamp': 1687791999.6887755, 'transactions': [], 'proof': 100, 'previous_hash': 'The Times 03/Jan/2009 Chancellor on brink of second bailout for banks.'}, {'index': 2, 'timestamp': 1687791999.6889403, 'transactions': [{'sender': 'Satoshi', 'recipient': 'Alex', 'amount': '10 BTC'}, {'sender': 'Alex', 'recipient': 'Satoshi', 'amount': '2 BTC'}, {'sender': 'Satoshi', 'recipient': 'James', 'amount': '10 BTC'}], 'proof': 10123, 'previous_hash': 'c578264bddb03c8dc522f364d275934837f0d8b12b890dce25938b52634d5992'}, {'index': 3, 'timestamp': 1687791999.6891425, 'transactions': [{'sender': 'Alex', 'recipient': 'Lucy', 'amount': '2 BTC'}, {'sender': 'Lucy', 'recipient': 'Justin', 'amount': '1 BTC'}, {'sender': 'Justin', 'recipient': 'Alex', 'amount': '1 BTC'}], 'proof': 10384, 'previous_hash': 'f73fbc8753ce1c8e39da73f1fa4be74cb986f8d46e04d318db0ae4a2e892af2d'}]\n"
          ]
        }
      ],
      "source": [
        "\n",
        "\n",
        "# creating the Block_chain class\n",
        "class Block_chain(object):\n",
        "    def __init__(self):\n",
        "        self.chain = []\n",
        "        self.pendingTransactions = []\n",
        "\n",
        "        self.newBlock(previousHash = \"The Times 03/Jan/2009 Chancellor on brink of second bailout for banks.\", the_proof = 100)\n",
        "\n",
        "# Creating a new block listing key/value pairs of\n",
        "# block information in a JSON object.\n",
        "# Reset the list of pending transactions &\n",
        "# append the newest block to the chain.\n",
        "    def newBlock(self, the_proof, previousHash = None):\n",
        "        the_block = {\n",
        "            'index': len(self.chain) + 1,\n",
        "            'timestamp': time(),\n",
        "            'transactions': self.pendingTransactions,\n",
        "            'proof': the_proof,\n",
        "            'previous_hash': previousHash or self.hash(self.chain[-1]),\n",
        "        }\n",
        "        self.pendingTransactions = []\n",
        "        self.chain.append(the_block)\n",
        "\n",
        "        return the_block\n",
        "\n",
        "#Searching the blockchain for the most recent block.\n",
        "    @property\n",
        "    def lastBlock(self):\n",
        "\n",
        "        return self.chain[-1]\n",
        "\n",
        "# Adding a transaction with relevant info to the 'blockpool' - list of pending tx's.\n",
        "    def newTransaction(self, the_sender, the_recipient, the_amount):\n",
        "        the_transaction = {\n",
        "            'sender': the_sender,\n",
        "            'recipient': the_recipient,\n",
        "            'amount': the_amount\n",
        "        }\n",
        "        self.pendingTransactions.append(the_transaction)\n",
        "        return self.lastBlock['index'] + 1\n",
        "\n",
        "# receiving one block. Turning it into a string, turning that into\n",
        "# Unicode (for hashing). Hashing with SHA256 encryption,\n",
        "# then translating the Unicode into a hexidecimal string.\n",
        "    def hash(self, the_block):\n",
        "        stringObject = json.dumps(the_block, sort_keys = True)\n",
        "        blockString = stringObject.encode()\n",
        "\n",
        "        rawHash = hashlib.sha256(blockString)\n",
        "        hexHash = rawHash.hexdigest()\n",
        "\n",
        "        return hexHash\n",
        "\n",
        "block_chain = Block_chain()\n",
        "transaction1 = block_chain.newTransaction(\"Satoshi\", \"Alex\", '10 BTC')\n",
        "transaction2 = block_chain.newTransaction(\"Alex\", \"Satoshi\", '2 BTC')\n",
        "transaction3 = block_chain.newTransaction(\"Satoshi\", \"James\", '10 BTC')\n",
        "block_chain.newBlock(10123)\n",
        "\n",
        "transaction4 = block_chain.newTransaction(\"Alex\", \"Lucy\", '2 BTC')\n",
        "transaction5 = block_chain.newTransaction(\"Lucy\", \"Justin\", '1 BTC')\n",
        "transaction6 = block_chain.newTransaction(\"Justin\", \"Alex\", '1 BTC')\n",
        "block_chain.newBlock(10384)\n",
        "\n",
        "print(\"Genesis block: \", block_chain.chain)"
      ]
    }
  ]
}