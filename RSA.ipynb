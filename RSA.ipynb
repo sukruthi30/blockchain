{
  "nbformat": 4,
  "nbformat_minor": 0,
  "metadata": {
    "colab": {
      "provenance": [],
      "authorship_tag": "ABX9TyMzRKSkxfYoXaSIR2D9wgT8"
    },
    "kernelspec": {
      "name": "python3",
      "display_name": "Python 3"
    },
    "language_info": {
      "name": "python"
    }
  },
  "cells": [
    {
      "cell_type": "code",
      "execution_count": 1,
      "metadata": {
        "id": "c39zZgeoUtcJ"
      },
      "outputs": [],
      "source": [
        "import math\n"
      ]
    },
    {
      "cell_type": "code",
      "source": [
        "message = int(input(\"enter the message to be encrypted:\"))\n",
        "p=11\n",
        "q=7\n",
        "e=3\n",
        "n=p*q\n",
        "def encrypt(me):\n",
        "  en=math.pow(me,e)\n",
        "  c=en%n\n",
        "  print(\"encrypted message: \",c)\n",
        "  return c\n",
        "print(\"original message: \",message)\n",
        "c=encrypt(message)\n"
      ],
      "metadata": {
        "colab": {
          "base_uri": "https://localhost:8080/"
        },
        "id": "WCCbTFq-SK8w",
        "outputId": "6a220d3c-2d98-4b4c-c6e3-7ba5c6675ddd"
      },
      "execution_count": 4,
      "outputs": [
        {
          "output_type": "stream",
          "name": "stdout",
          "text": [
            "enter the message to be encrypted:5\n",
            "original message:  5\n",
            "encrypted message:  48.0\n"
          ]
        }
      ]
    }
  ]
}