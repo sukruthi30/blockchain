{
  "nbformat": 4,
  "nbformat_minor": 0,
  "metadata": {
    "colab": {
      "provenance": [],
      "authorship_tag": "ABX9TyNgamJlxndTn6jtNn1oPU2j"
    },
    "kernelspec": {
      "name": "python3",
      "display_name": "Python 3"
    },
    "language_info": {
      "name": "python"
    }
  },
  "cells": [
    {
      "cell_type": "code",
      "source": [
        "pip install cryptography"
      ],
      "metadata": {
        "colab": {
          "base_uri": "https://localhost:8080/"
        },
        "id": "j4Y5aL6IXRBN",
        "outputId": "e42c0d54-bc32-4cd3-bdff-d1c2c3748e8f"
      },
      "execution_count": 3,
      "outputs": [
        {
          "output_type": "stream",
          "name": "stdout",
          "text": [
            "Looking in indexes: https://pypi.org/simple, https://us-python.pkg.dev/colab-wheels/public/simple/\n",
            "Collecting cryptography\n",
            "  Downloading cryptography-41.0.1-cp37-abi3-manylinux_2_28_x86_64.whl (4.3 MB)\n",
            "\u001b[2K     \u001b[90m━━━━━━━━━━━━━━━━━━━━━━━━━━━━━━━━━━━━━━━━\u001b[0m \u001b[32m4.3/4.3 MB\u001b[0m \u001b[31m48.0 MB/s\u001b[0m eta \u001b[36m0:00:00\u001b[0m\n",
            "\u001b[?25hRequirement already satisfied: cffi>=1.12 in /usr/local/lib/python3.10/dist-packages (from cryptography) (1.15.1)\n",
            "Requirement already satisfied: pycparser in /usr/local/lib/python3.10/dist-packages (from cffi>=1.12->cryptography) (2.21)\n",
            "Installing collected packages: cryptography\n",
            "Successfully installed cryptography-41.0.1\n"
          ]
        }
      ]
    },
    {
      "cell_type": "code",
      "source": [
        "pip install ecdsa"
      ],
      "metadata": {
        "colab": {
          "base_uri": "https://localhost:8080/"
        },
        "id": "r6pjHyBmXV9R",
        "outputId": "bfaf25cf-d448-4f3a-825d-6d17aa09606b"
      },
      "execution_count": 4,
      "outputs": [
        {
          "output_type": "stream",
          "name": "stdout",
          "text": [
            "Looking in indexes: https://pypi.org/simple, https://us-python.pkg.dev/colab-wheels/public/simple/\n",
            "Collecting ecdsa\n",
            "  Downloading ecdsa-0.18.0-py2.py3-none-any.whl (142 kB)\n",
            "\u001b[2K     \u001b[90m━━━━━━━━━━━━━━━━━━━━━━━━━━━━━━━━━━━━━━━\u001b[0m \u001b[32m142.9/142.9 kB\u001b[0m \u001b[31m6.2 MB/s\u001b[0m eta \u001b[36m0:00:00\u001b[0m\n",
            "\u001b[?25hRequirement already satisfied: six>=1.9.0 in /usr/local/lib/python3.10/dist-packages (from ecdsa) (1.16.0)\n",
            "Installing collected packages: ecdsa\n",
            "Successfully installed ecdsa-0.18.0\n"
          ]
        }
      ]
    },
    {
      "cell_type": "code",
      "source": [
        "pip install ecc"
      ],
      "metadata": {
        "colab": {
          "base_uri": "https://localhost:8080/"
        },
        "id": "C-Y2BH8PXO2o",
        "outputId": "79b18225-a690-4354-ea03-f110ccecf374"
      },
      "execution_count": 5,
      "outputs": [
        {
          "output_type": "stream",
          "name": "stdout",
          "text": [
            "Looking in indexes: https://pypi.org/simple, https://us-python.pkg.dev/colab-wheels/public/simple/\n",
            "Collecting ecc\n",
            "  Downloading ecc-0.0.1.zip (22 kB)\n",
            "  Preparing metadata (setup.py) ... \u001b[?25l\u001b[?25hdone\n",
            "Building wheels for collected packages: ecc\n",
            "  Building wheel for ecc (setup.py) ... \u001b[?25l\u001b[?25hdone\n",
            "  Created wheel for ecc: filename=ecc-0.0.1-py3-none-any.whl size=20563 sha256=7c5493534de4f9568e1fd9020e4c16bda56c2a0c619db49f8a0a0cef050b3ccf\n",
            "  Stored in directory: /root/.cache/pip/wheels/c8/24/60/8142513ce933f8ad154f2fb90b69f74d9772fcc103c8c54800\n",
            "Successfully built ecc\n",
            "Installing collected packages: ecc\n",
            "Successfully installed ecc-0.0.1\n"
          ]
        }
      ]
    },
    {
      "cell_type": "code",
      "source": [
        "import cryptography"
      ],
      "metadata": {
        "id": "3D8NDspgXwSV"
      },
      "execution_count": 11,
      "outputs": []
    },
    {
      "cell_type": "code",
      "source": [
        "import ecdsa"
      ],
      "metadata": {
        "id": "Og38m5xAXo6q"
      },
      "execution_count": 7,
      "outputs": []
    },
    {
      "cell_type": "code",
      "source": [
        "import ecc"
      ],
      "metadata": {
        "id": "bISRlt_EXtV6"
      },
      "execution_count": 9,
      "outputs": []
    },
    {
      "cell_type": "code",
      "execution_count": 14,
      "metadata": {
        "colab": {
          "base_uri": "https://localhost:8080/"
        },
        "id": "81PtvqAZR9fZ",
        "outputId": "bab9dc98-09be-4895-9235-ea056c37c051"
      },
      "outputs": [
        {
          "output_type": "stream",
          "name": "stdout",
          "text": [
            "Public key: a5d4a36ee4d9b17b33feaa0b07f67a6c1d8d6c81be64cf581f627b85bfad894f715ef3f21d88afd84beb28e3a554cd8a\n",
            "Private key: 4a0aaba2f0aaf44225f80174006186ea5861b2390f43dade\n"
          ]
        }
      ],
      "source": [
        "private_key = ecdsa.SigningKey.generate()\n",
        "public_key = private_key.get_verifying_key()\n",
        "private_key_bytes = private_key.to_string()\n",
        "public_key_bytes = public_key.to_string()\n",
        "print(\"Public key:\",public_key_bytes.hex())\n",
        "print(\"Private key:\",private_key_bytes.hex())"
      ]
    }
  ]
}