{
  "nbformat": 4,
  "nbformat_minor": 0,
  "metadata": {
    "colab": {
      "provenance": [],
      "authorship_tag": "ABX9TyOHdMRidnk6/DJWWm4uNYQz"
    },
    "kernelspec": {
      "name": "python3",
      "display_name": "Python 3"
    },
    "language_info": {
      "name": "python"
    }
  },
  "cells": [
    {
      "cell_type": "code",
      "source": [
        "pip install cryptography"
      ],
      "metadata": {
        "colab": {
          "base_uri": "https://localhost:8080/"
        },
        "id": "YAqwEHr3PT16",
        "outputId": "f98f1ada-225e-4d60-fdcb-43d78488c5a9"
      },
      "execution_count": 2,
      "outputs": [
        {
          "output_type": "stream",
          "name": "stdout",
          "text": [
            "Looking in indexes: https://pypi.org/simple, https://us-python.pkg.dev/colab-wheels/public/simple/\n",
            "Collecting cryptography\n",
            "  Downloading cryptography-41.0.1-cp37-abi3-manylinux_2_28_x86_64.whl (4.3 MB)\n",
            "\u001b[2K     \u001b[90m━━━━━━━━━━━━━━━━━━━━━━━━━━━━━━━━━━━━━━━━\u001b[0m \u001b[32m4.3/4.3 MB\u001b[0m \u001b[31m32.1 MB/s\u001b[0m eta \u001b[36m0:00:00\u001b[0m\n",
            "\u001b[?25hRequirement already satisfied: cffi>=1.12 in /usr/local/lib/python3.10/dist-packages (from cryptography) (1.15.1)\n",
            "Requirement already satisfied: pycparser in /usr/local/lib/python3.10/dist-packages (from cffi>=1.12->cryptography) (2.21)\n",
            "Installing collected packages: cryptography\n",
            "Successfully installed cryptography-41.0.1\n"
          ]
        }
      ]
    },
    {
      "cell_type": "code",
      "source": [
        "from cryptography.hazmat.backends import default_backend\n",
        "\n",
        "from cryptography.hazmat.primitives import hashes, serialization\n",
        "\n",
        "from cryptography.hazmat.primitives.asymmetric import ec\n",
        "\n",
        "from cryptography.exceptions import InvalidSignature"
      ],
      "metadata": {
        "id": "TjpKKkj1PJz5"
      },
      "execution_count": 3,
      "outputs": []
    },
    {
      "cell_type": "code",
      "execution_count": 5,
      "metadata": {
        "colab": {
          "base_uri": "https://localhost:8080/"
        },
        "id": "LSklizWIK_Pr",
        "outputId": "11b25d51-6c04-4986-fb8d-d71ff2902324"
      },
      "outputs": [
        {
          "output_type": "stream",
          "name": "stdout",
          "text": [
            "Private key: 0x63bd3b01c5ce749d87f5f7481232a93540acdb0f7b5c014ecd9cd32b041d6f33\n",
            "Public point (Uncompressed): 0x04017655e42a892cc71bccedcb1cd421d03530e1d7edb52cef143c5562c4c6f0129fa5a37738013e64a1ff0e6cb7068815a13000eb162cb7a0214dfcf3c8fa101c\n",
            "Signature: 0x30440220008e329257f645e113f41869d06d9cfdc6c166184d679d8ed9db288bb09e4d9a022047676e26e2225e9d5f4bec1fc39bfd9440e3a61f92d5ca8cd01e7000d980a5ca\n",
            "Verification OK\n"
          ]
        }
      ],
      "source": [
        "private_value = 0x63bd3b01c5ce749d87f5f7481232a93540acdb0f7b5c014ecd9cd32b041d6f33\n",
        "curve = ec.SECP256R1()\n",
        "signature_algorithm = ec.ECDSA(hashes.SHA256())\n",
        "\n",
        "# Make private and public keys from the private value + curve\n",
        "priv_key = ec.derive_private_key(private_value, curve, default_backend())\n",
        "pub_key = priv_key.public_key()\n",
        "print('Private key: 0x%x' % priv_key.private_numbers().private_value)\n",
        "\n",
        "print('Public point (Uncompressed): 0x%s' % pub_key.public_bytes(serialization.Encoding.X962, serialization.PublicFormat.UncompressedPoint).hex())\n",
        "\n",
        "# Sign some data\n",
        "data = b\"this is some data to sign\"\n",
        "signature = priv_key.sign(data, signature_algorithm)\n",
        "print('Signature: 0x%s' % signature.hex())\n",
        "\n",
        "# Verify\n",
        "try:\n",
        "    pub_key.verify(signature, data, signature_algorithm)\n",
        "    print('Verification OK')\n",
        "except InvalidSignature:\n",
        "    print('Verification failed')\n"
      ]
    }
  ]
}